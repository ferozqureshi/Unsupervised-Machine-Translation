{
 "cells": [
  {
   "cell_type": "markdown",
   "id": "517d8a22",
   "metadata": {},
   "source": [
    "# Getting Cleaned text from these following Yale website Url's:\n",
    "        urls = ['https://medicine.yale.edu/intmed/cardio/news-article/integrating-chagas-disease-screening-into-primary-healthcare/', \n",
    "    'https://library.yale.edu/news/library-staff-supports-young-historians-connecticut-history-day-regional-contests',\n",
    "    'https://news.yale.edu/2023/04/10/dr-jason-fish-named-next-ceo-yale-health',\n",
    "    'https://ysph.yale.edu/news-article/for-hurricane-katrina-survivors-covid-19-brings-a-new-mental-health-toll/',\n",
    "    'https://egc.yale.edu/events/podcasts/voices-development-episode-5']\n",
    "    \n",
    "## Since there are only around 40 sentences in a page from yale website, I have chosen 5 different pages for preparing my dataset which would make the sentence count to 128+ samples"
   ]
  },
  {
   "cell_type": "code",
   "execution_count": 1,
   "id": "6d42c081",
   "metadata": {},
   "outputs": [],
   "source": [
    "# these cells contains different function which take in the url and extracts the paragraphs from\n",
    "# the html's and later converts them into cleaned sentences.\n",
    "import requests\n",
    "from bs4 import BeautifulSoup\n",
    "import nltk\n",
    "from nltk.tokenize import sent_tokenize, word_tokenize\n",
    "from nltk.tag import pos_tag\n",
    "import re\n",
    "\n",
    "# extracts the paragraphs from url, and joins all the paragraphs as a string on separartor '$'\n",
    "def ready_to_use_text(urls):    \n",
    "    all_paras = []\n",
    "    for url in urls:\n",
    "        response = requests.get(url)\n",
    "\n",
    "        # Create BeautifulSoup object\n",
    "        soup = BeautifulSoup(response.content, 'html.parser')\n",
    "\n",
    "        # Find all paragraphs in the page\n",
    "        paragraphs = soup.find_all('p')\n",
    "        for p in paragraphs:\n",
    "            all_paras.append(p.text)\n",
    "    separator = '$'\n",
    "    text = separator.join(all_paras)\n",
    "    \n",
    "    return filter_on_pos(text)\n",
    "\n",
    "# filters all the text based on parts of speech\n",
    "# the assumption is, if there is no action verbs, then it's not a desired sentence\n",
    "def filter_on_pos(text):\n",
    "    # Tokenize the text into sentences\n",
    "    sentences = sent_tokenize(text)\n",
    "    filtered_sentences = []\n",
    "    \n",
    "    # Loop through each sentence and filter out sentences without action verbs\n",
    "    for sentence in sentences:\n",
    "        # Tokenize the sentence into words\n",
    "        words = word_tokenize(sentence)\n",
    "        \n",
    "        # Perform POS tagging on the words\n",
    "        tagged_words = pos_tag(words)\n",
    "        \n",
    "        # Look for action verbs in the tagged words\n",
    "        has_action_verb = False\n",
    "        for word, tag in tagged_words:\n",
    "            if tag.startswith('VB'):  # Check if the word is a verb\n",
    "                has_action_verb = True\n",
    "                break\n",
    "        \n",
    "        # If the sentence has an action verb, add it to the filtered sentences list\n",
    "        if has_action_verb:\n",
    "            sentence = sentence.replace('\\ufeff', '')\n",
    "            sentence = sentence.replace('\\xa0', ' ')\n",
    "            filtered_sentences.append(sentence)\n",
    "    \n",
    "    \n",
    "\n",
    "    clean_sentences = []\n",
    "    for i in filtered_sentences:\n",
    "        for j in i.split('$'):\n",
    "            pattern = r'^[A-Z][a-z]'\n",
    "            if re.search(pattern, j) and '.' in j:\n",
    "                clean_sentences.append(j)\n",
    "    return clean_sentences"
   ]
  },
  {
   "cell_type": "code",
   "execution_count": 2,
   "id": "4d17f939",
   "metadata": {},
   "outputs": [],
   "source": [
    "urls = ['https://medicine.yale.edu/intmed/cardio/news-article/integrating-chagas-disease-screening-into-primary-health-care/', \n",
    "    'https://library.yale.edu/news/library-staff-supports-young-historians-connecticut-history-day-regional-contests',\n",
    "    'https://news.yale.edu/2023/04/10/dr-jason-fish-named-next-ceo-yale-health',\n",
    "    'https://ysph.yale.edu/news-article/for-hurricane-katrina-survivors-covid-19-brings-a-new-mental-health-toll/',\n",
    "    'https://egc.yale.edu/events/podcasts/voices-development-episode-5']\n",
    "yale_text = ready_to_use_text(urls)"
   ]
  },
  {
   "cell_type": "code",
   "execution_count": 3,
   "id": "a289bd9f",
   "metadata": {},
   "outputs": [
    {
     "name": "stdout",
     "output_type": "stream",
     "text": [
      "Few samples of text: ['April 14 is World Chagas Disease Day.', 'Since its discovery in 1909 by Brazilian researcher Carlos Ribeiro Justiniano Chagas, a Chagas disease epidemic has spread from the rural areas of Latin America to the United States.', 'When untreated, patients are at risk for disorders including arrythmias, dilated cardiomyopathy, or heart failure, so raising awareness among healthcare providers is a priority.', 'Bernardo Lombo, MD, is an assistant professor of clinical medicine at the Yale School of Medicine and an expert in Chagas disease at Yale.']\n"
     ]
    }
   ],
   "source": [
    "print(f'Few samples of text: {yale_text[:4]}')"
   ]
  },
  {
   "cell_type": "markdown",
   "id": "c4d774d4",
   "metadata": {},
   "source": [
    "# English text is translated into spanish using google translator\n",
    "### Translations of yale_text is done in this cell"
   ]
  },
  {
   "cell_type": "code",
   "execution_count": 4,
   "id": "c8f21867",
   "metadata": {},
   "outputs": [
    {
     "name": "stdout",
     "output_type": "stream",
     "text": [
      "the JSON object must be str, bytes or bytearray, not NoneType\n",
      "the JSON object must be str, bytes or bytearray, not NoneType\n",
      "the JSON object must be str, bytes or bytearray, not NoneType\n",
      "the JSON object must be str, bytes or bytearray, not NoneType\n",
      "the JSON object must be str, bytes or bytearray, not NoneType\n",
      "the JSON object must be str, bytes or bytearray, not NoneType\n",
      "the JSON object must be str, bytes or bytearray, not NoneType\n",
      "the JSON object must be str, bytes or bytearray, not NoneType\n"
     ]
    }
   ],
   "source": [
    "from googletrans import Translator\n",
    "import time\n",
    "\n",
    "def get_translations(yale_text):\n",
    "    final_translation = []\n",
    "    translator = Translator()\n",
    "    translations = []\n",
    "\n",
    "    for sentence in yale_text:\n",
    "        translation = None\n",
    "        while translation is None:\n",
    "            try:\n",
    "                translation = translator.translate(sentence, dest='es')\n",
    "                translations.append(translation.text)\n",
    "            except AttributeError:\n",
    "                time.sleep(1)\n",
    "            except Exception as e:\n",
    "                print(e)\n",
    "                time.sleep(10)\n",
    "\n",
    "    return translations\n",
    "translations = get_translations(yale_text)"
   ]
  },
  {
   "cell_type": "code",
   "execution_count": 8,
   "id": "13a8b22f",
   "metadata": {},
   "outputs": [
    {
     "name": "stdout",
     "output_type": "stream",
     "text": [
      "Few samples of translated text: ['Las reuniones de primavera 2023 de esta semana del Grupo del Banco Mundial y el FMI con un enfoque en \"remodelar el desarrollo para una nueva era\" son un recordatorio importante de que el cambio sistémico no ocurre de la noche a la mañana.', 'El desarrollo económico fuerte requiere una infraestructura adecuada y el acceso individual a los mercados y oportunidades.', 'Sin embargo, muchas comunidades enfrentan barreras sociales, ambientales y económicas que obstaculizan el desarrollo.', 'Los paisajes duros y los entornos remotos pueden limitar el acceso a los mercados, y las crisis como la pandemia Covid-19, la inseguridad alimentaria y el cambio climático pueden retrasar ganancias ganadas con tanto esfuerzo en el desarrollo.', 'En este episodio de Voices in Development, Kevin Donovan, profesor asistente de economía y asuntos globales y afiliados de EGC, discute su diverso cuerpo de trabajo reciente desempacando las condiciones y herramientas necesarias para que los países hagan estas transiciones basadas en el mercado en una era de crisis superpuestas.']\n"
     ]
    }
   ],
   "source": [
    "print(f'Few samples of translated text: {translations[125:130]}')"
   ]
  },
  {
   "cell_type": "markdown",
   "id": "35d10642",
   "metadata": {},
   "source": [
    "# Writing the base text and translated text to text files for future use"
   ]
  },
  {
   "cell_type": "code",
   "execution_count": 19,
   "id": "d3839fe5",
   "metadata": {},
   "outputs": [],
   "source": [
    "with open('yale_base_text.txt', 'w') as f:\n",
    "    for item in yale_text:\n",
    "        f.write(item + '\\n')\n"
   ]
  },
  {
   "cell_type": "code",
   "execution_count": 20,
   "id": "7ee1588b",
   "metadata": {},
   "outputs": [],
   "source": [
    "with open('yale_translated_text.txt', 'w') as f:\n",
    "    for item in translations:\n",
    "        f.write(item + '\\n')\n"
   ]
  },
  {
   "cell_type": "markdown",
   "id": "64cfa7f3",
   "metadata": {},
   "source": [
    "# CustomDataset class definition:"
   ]
  },
  {
   "cell_type": "code",
   "execution_count": 53,
   "id": "49945b76",
   "metadata": {},
   "outputs": [
    {
     "name": "stdout",
     "output_type": "stream",
     "text": [
      "The first sample in batch 1\n",
      "==================================\n",
      "There are researchers in the U.S. tackling these kinds of questions in regard to Chagas disease and triatomine bugs, but it's an area that can use more attention as our climate continues to be altered by human activities.\n",
      "\n",
      "Hay investigadores en los Estados Unidos que abordan este tipo de preguntas con respecto a la enfermedad de Chagas y los insectos triatominos, pero es un área que puede usar más atención a medida que nuestro clima continúa siendo alterado por las actividades humanas.\n",
      "\n",
      "The first sample in batch 2\n",
      "==================================\n",
      "People emigrate and travel, and someone may move from a country like Bolivia, where screening programs for Chagas disease are relatively robust, to a country like the US, where almost no health care providers were taught to even consider screening their at-risk patients.\n",
      "\n",
      "Las personas emigran y viajan, y alguien puede mudarse de un país como Bolivia, donde los programas de detección de la enfermedad de Chagas son relativamente robustos, a un país como los Estados Unidos, donde casi no se les enseñó a los proveedores de atención médica a considerar la detección de sus pacientes en riesgo.\n",
      "\n",
      "The first sample in batch 3\n",
      "==================================\n",
      "Our results in Nicaragua suggest there are big benefits to this type of last mile infrastructure.\n",
      "\n",
      "Nuestros resultados en Nicaragua sugieren que hay grandes beneficios para este tipo de infraestructura de última milla.\n",
      "\n",
      "The first sample in batch 4\n",
      "==================================\n",
      "It turns out to be a pretty cost effective way to help people in rural areas.\n",
      "\n",
      "Resulta ser una forma bastante rentable de ayudar a las personas en las zonas rurales.\n",
      "\n",
      "The first sample in batch 5\n",
      "==================================\n",
      "All past sessions are available on their website and CMEs are available for those who register and attend the sessions live.\n",
      "\n",
      "Todas las sesiones anteriores están disponibles en su sitio web y CMES están disponibles para aquellos que se registran y asisten a las Sesiones en vivo.\n",
      "\n",
      "The first sample in batch 6\n",
      "==================================\n",
      "That said populations are not static.\n",
      "\n",
      "Dicho esto, las poblaciones no son estáticas.\n",
      "\n",
      "The first sample in batch 7\n",
      "==================================\n",
      "Fish and Meneses love to hike and are looking forward to exploring all the local trails with their two dogs,” Salovey wrote.\n",
      "\n",
      "A los peces y los Meneses les encanta caminar y están ansiosos por explorar todos los senderos locales con sus dos perros ”, escribió Salovey.\n",
      "\n",
      "The first sample in batch 8\n",
      "==================================\n",
      "Karen N. Peart: karen.peart@yale.edu, 203-980-2222\n",
      "\n",
      "Karen N. Peart: karen.peart@yale.edu, 203-980-2222\n",
      "\n",
      "The first sample in batch 9\n",
      "==================================\n",
      "Fish earned his B.A.\n",
      "\n",
      "El pez obtuvo su B.A.\n",
      "\n",
      "The first sample in batch 10\n",
      "==================================\n",
      "The results, which compared the mental health impact of Hurricane Katrina to the COVID-19 pandemic, surprised Lowe: Nearly 42 percent of the Katrina survivors experienced post-traumatic stress symptoms one year into the pandemic—almost the exact percentage that had experienced those symptoms a year after the hurricane.\n",
      "\n",
      "Los resultados, que compararon el impacto en la salud mental del huracán Katrina con la pandemia Covid-19, sorprendida, lowe: casi el 42 por ciento de los sobrevivientes de Katrina experimentaron síntomas de estrés postraumático un año en la pandemia, casi el porcentaje exacto que había experimentado esos síntomasun año después del huracán.\n",
      "\n",
      "The first sample in batch 11\n",
      "==================================\n",
      "The authors are experts on Chagas disease in the U.S., including public health professionals, clinicians, and researchers.\n",
      "\n",
      "Los autores son expertos en enfermedades de Chagas en los Estados Unidos, incluidos profesionales de la salud pública, médicos e investigadores.\n",
      "\n",
      "The first sample in batch 12\n",
      "==================================\n",
      "He previously worked as an Assistant Professor in the Department of Economics at the University of Notre Dame, and his work has been published in the Quarterly Journal of Economics, Journal of Development Economics, Review of Economic Studies, and Econometrica.\n",
      "\n",
      "Anteriormente trabajó como profesor asistente en el Departamento de Economía de la Universidad de Notre Dame, y su trabajo ha sido publicado en el trimestral Journal of Economics, Journal of Development Economics, Review of Economic Studies y Econometrica.\n",
      "\n",
      "The first sample in batch 13\n",
      "==================================\n",
      "The risk of acquiring Chagas disease is often associated with living in rural parts of Latin America, though there are many exceptions to this rule.\n",
      "\n",
      "El riesgo de adquirir la enfermedad de Chagas a menudo se asocia con vivir en partes rurales de América Latina, aunque hay muchas excepciones a esta regla.\n",
      "\n",
      "The first sample in batch 14\n",
      "==================================\n",
      "Furthermore, we need more research and evidence to bolster or challenge current screening recommendations.\n",
      "\n",
      "Además, necesitamos más investigación y evidencia para reforzar o desafiar las recomendaciones de detección actuales.\n",
      "\n"
     ]
    }
   ],
   "source": [
    "import torch\n",
    "import random\n",
    "from torch.utils.data import Dataset, DataLoader\n",
    "\n",
    "class CustomDataset(Dataset):\n",
    "    def __init__(self, base_text_file, translated_text_file):\n",
    "        with open(base_text_file, 'r') as f:\n",
    "            self.base_text = f.readlines()\n",
    "        with open(translated_text_file, 'r') as f:\n",
    "            self.translated_text = f.readlines()\n",
    "\n",
    "    def __len__(self):\n",
    "        return len(self.base_text)\n",
    "\n",
    "    def __getitem__(self, idx):\n",
    "        return self.base_text[idx], self.translated_text[idx]\n",
    "\n",
    "dataset = CustomDataset('yale_base_text.txt', 'yale_translated_text.txt')\n",
    "\n",
    "\n",
    "\n",
    "# Split the dataset into training, validation, and test sets\n",
    "train_size = int(0.8 * len(dataset))\n",
    "val_size = int(0.1 * len(dataset))\n",
    "test_size = len(dataset) - train_size - val_size\n",
    "train_dataset, val_dataset, test_dataset = torch.utils.data.random_split(dataset, [train_size, val_size, test_size])\n",
    "\n",
    "# Create data loaders\n",
    "batch_size = 8\n",
    "train_loader = DataLoader(train_dataset, batch_size=batch_size, shuffle=True)\n",
    "val_loader = DataLoader(val_dataset, batch_size=batch_size, shuffle=True)\n",
    "test_loader = DataLoader(test_dataset, batch_size=batch_size, shuffle=True)\n",
    "\n",
    "# Show the first sample of each minibatch of size 8\n",
    "for i, (base_text_batch, translated_text_batch) in enumerate(train_loader):\n",
    "        print(f'The first sample in batch {i+1}')\n",
    "        print('==================================')\n",
    "        print(base_text_batch[0])\n",
    "        print(translated_text_batch[0])"
   ]
  },
  {
   "cell_type": "code",
   "execution_count": null,
   "id": "d6f5708e",
   "metadata": {},
   "outputs": [],
   "source": []
  },
  {
   "cell_type": "code",
   "execution_count": null,
   "id": "25ec2963",
   "metadata": {},
   "outputs": [],
   "source": []
  }
 ],
 "metadata": {
  "kernelspec": {
   "display_name": "Python 3 (ipykernel)",
   "language": "python",
   "name": "python3"
  },
  "language_info": {
   "codemirror_mode": {
    "name": "ipython",
    "version": 3
   },
   "file_extension": ".py",
   "mimetype": "text/x-python",
   "name": "python",
   "nbconvert_exporter": "python",
   "pygments_lexer": "ipython3",
   "version": "3.10.9"
  }
 },
 "nbformat": 4,
 "nbformat_minor": 5
}
